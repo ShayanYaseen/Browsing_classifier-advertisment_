{
 "cells": [
  {
   "cell_type": "markdown",
   "metadata": {},
   "source": [
    "# Website dataset"
   ]
  },
  {
   "cell_type": "code",
   "execution_count": 1,
   "metadata": {},
   "outputs": [
    {
     "name": "stderr",
     "output_type": "stream",
     "text": [
      "b'Skipping line 199: expected 4 fields, saw 5\\nSkipping line 597: expected 4 fields, saw 5\\nSkipping line 614: expected 4 fields, saw 5\\nSkipping line 683: expected 4 fields, saw 5\\nSkipping line 1146: expected 4 fields, saw 5\\nSkipping line 1411: expected 4 fields, saw 5\\nSkipping line 1431: expected 4 fields, saw 5\\nSkipping line 1532: expected 4 fields, saw 5\\nSkipping line 1578: expected 4 fields, saw 5\\nSkipping line 3299: expected 4 fields, saw 5\\nSkipping line 3325: expected 4 fields, saw 5\\nSkipping line 3375: expected 4 fields, saw 5\\nSkipping line 3468: expected 4 fields, saw 5\\nSkipping line 3469: expected 4 fields, saw 5\\nSkipping line 3767: expected 4 fields, saw 5\\nSkipping line 3770: expected 4 fields, saw 5\\nSkipping line 3842: expected 4 fields, saw 5\\nSkipping line 4150: expected 4 fields, saw 5\\nSkipping line 5051: expected 4 fields, saw 5\\nSkipping line 5290: expected 4 fields, saw 5\\nSkipping line 5386: expected 4 fields, saw 5\\nSkipping line 7298: expected 4 fields, saw 5\\nSkipping line 7391: expected 4 fields, saw 5\\nSkipping line 8293: expected 4 fields, saw 5\\nSkipping line 9386: expected 4 fields, saw 5\\nSkipping line 9387: expected 4 fields, saw 5\\nSkipping line 9663: expected 4 fields, saw 5\\nSkipping line 9710: expected 4 fields, saw 5\\nSkipping line 9936: expected 4 fields, saw 5\\nSkipping line 9986: expected 4 fields, saw 5\\nSkipping line 11096: expected 4 fields, saw 5\\nSkipping line 11603: expected 4 fields, saw 5\\nSkipping line 11628: expected 4 fields, saw 6\\nSkipping line 11658: expected 4 fields, saw 5\\nSkipping line 11699: expected 4 fields, saw 5\\nSkipping line 11716: expected 4 fields, saw 5\\nSkipping line 11831: expected 4 fields, saw 5\\nSkipping line 11858: expected 4 fields, saw 5\\nSkipping line 11936: expected 4 fields, saw 5\\nSkipping line 12087: expected 4 fields, saw 5\\nSkipping line 12317: expected 4 fields, saw 5\\nSkipping line 12367: expected 4 fields, saw 5\\nSkipping line 12566: expected 4 fields, saw 5\\nSkipping line 12681: expected 4 fields, saw 5\\nSkipping line 13461: expected 4 fields, saw 5\\nSkipping line 13670: expected 4 fields, saw 5\\nSkipping line 14000: expected 4 fields, saw 5\\nSkipping line 14427: expected 4 fields, saw 5\\nSkipping line 14486: expected 4 fields, saw 5\\nSkipping line 14576: expected 4 fields, saw 5\\nSkipping line 15031: expected 4 fields, saw 6\\nSkipping line 15836: expected 4 fields, saw 5\\nSkipping line 17762: expected 4 fields, saw 5\\nSkipping line 17884: expected 4 fields, saw 5\\nSkipping line 17926: expected 4 fields, saw 5\\nSkipping line 18019: expected 4 fields, saw 5\\nSkipping line 18363: expected 4 fields, saw 5\\nSkipping line 18667: expected 4 fields, saw 5\\nSkipping line 21112: expected 4 fields, saw 5\\nSkipping line 21630: expected 4 fields, saw 5\\nSkipping line 21871: expected 4 fields, saw 5\\nSkipping line 21980: expected 4 fields, saw 5\\nSkipping line 22017: expected 4 fields, saw 5\\nSkipping line 22029: expected 4 fields, saw 5\\nSkipping line 22836: expected 4 fields, saw 5\\nSkipping line 22907: expected 4 fields, saw 5\\nSkipping line 22913: expected 4 fields, saw 5\\nSkipping line 22914: expected 4 fields, saw 5\\nSkipping line 22932: expected 4 fields, saw 5\\nSkipping line 22951: expected 4 fields, saw 5\\nSkipping line 22984: expected 4 fields, saw 5\\nSkipping line 22990: expected 4 fields, saw 5\\nSkipping line 23034: expected 4 fields, saw 5\\nSkipping line 23173: expected 4 fields, saw 5\\nSkipping line 23205: expected 4 fields, saw 5\\nSkipping line 23267: expected 4 fields, saw 5\\nSkipping line 23271: expected 4 fields, saw 5\\nSkipping line 23391: expected 4 fields, saw 5\\nSkipping line 23431: expected 4 fields, saw 5\\nSkipping line 23433: expected 4 fields, saw 5\\nSkipping line 23435: expected 4 fields, saw 5\\nSkipping line 23537: expected 4 fields, saw 5\\nSkipping line 23550: expected 4 fields, saw 5\\nSkipping line 23567: expected 4 fields, saw 5\\nSkipping line 23579: expected 4 fields, saw 5\\nSkipping line 23586: expected 4 fields, saw 5\\nSkipping line 23587: expected 4 fields, saw 5\\nSkipping line 24296: expected 4 fields, saw 5\\nSkipping line 24497: expected 4 fields, saw 5\\nSkipping line 24581: expected 4 fields, saw 5\\nSkipping line 25157: expected 4 fields, saw 5\\nSkipping line 25496: expected 4 fields, saw 5\\nSkipping line 25567: expected 4 fields, saw 5\\nSkipping line 25615: expected 4 fields, saw 5\\nSkipping line 25666: expected 4 fields, saw 5\\nSkipping line 25684: expected 4 fields, saw 5\\nSkipping line 25686: expected 4 fields, saw 5\\nSkipping line 25800: expected 4 fields, saw 5\\nSkipping line 25814: expected 4 fields, saw 5\\nSkipping line 25966: expected 4 fields, saw 5\\nSkipping line 25975: expected 4 fields, saw 5\\nSkipping line 26031: expected 4 fields, saw 5\\nSkipping line 26036: expected 4 fields, saw 5\\nSkipping line 26058: expected 4 fields, saw 5\\nSkipping line 26178: expected 4 fields, saw 5\\nSkipping line 26229: expected 4 fields, saw 5\\nSkipping line 26501: expected 4 fields, saw 7\\nSkipping line 26684: expected 4 fields, saw 5\\nSkipping line 26693: expected 4 fields, saw 5\\nSkipping line 26749: expected 4 fields, saw 5\\nSkipping line 26754: expected 4 fields, saw 5\\n'\n"
     ]
    },
    {
     "data": {
      "text/html": [
       "<div>\n",
       "<style scoped>\n",
       "    .dataframe tbody tr th:only-of-type {\n",
       "        vertical-align: middle;\n",
       "    }\n",
       "\n",
       "    .dataframe tbody tr th {\n",
       "        vertical-align: top;\n",
       "    }\n",
       "\n",
       "    .dataframe thead th {\n",
       "        text-align: right;\n",
       "    }\n",
       "</style>\n",
       "<table border=\"1\" class=\"dataframe\">\n",
       "  <thead>\n",
       "    <tr style=\"text-align: right;\">\n",
       "      <th></th>\n",
       "      <th>Primary Category</th>\n",
       "      <th>Secondary Category</th>\n",
       "      <th>Title</th>\n",
       "      <th>URL</th>\n",
       "    </tr>\n",
       "  </thead>\n",
       "  <tbody>\n",
       "    <tr>\n",
       "      <th>0</th>\n",
       "      <td>Arts &amp; Humanities</td>\n",
       "      <td>Architecture</td>\n",
       "      <td>68 Dean Street</td>\n",
       "      <td>http://www.sixty8.com/</td>\n",
       "    </tr>\n",
       "    <tr>\n",
       "      <th>1</th>\n",
       "      <td>Arts &amp; Humanities</td>\n",
       "      <td>Architecture</td>\n",
       "      <td>Abandoned Communities</td>\n",
       "      <td>http://www.abandonedcommunities.co.uk/</td>\n",
       "    </tr>\n",
       "    <tr>\n",
       "      <th>2</th>\n",
       "      <td>Arts &amp; Humanities</td>\n",
       "      <td>Architecture</td>\n",
       "      <td>Alexander Thomson Society</td>\n",
       "      <td>http://www.greekthomson.com/</td>\n",
       "    </tr>\n",
       "    <tr>\n",
       "      <th>3</th>\n",
       "      <td>Arts &amp; Humanities</td>\n",
       "      <td>Architecture</td>\n",
       "      <td>Arab British Centre, The</td>\n",
       "      <td>http://www.arabbritishcentre.org.uk/</td>\n",
       "    </tr>\n",
       "    <tr>\n",
       "      <th>4</th>\n",
       "      <td>Arts &amp; Humanities</td>\n",
       "      <td>Architecture</td>\n",
       "      <td>Architectural Association School of Architecture</td>\n",
       "      <td>http://www.aaschool.ac.uk/</td>\n",
       "    </tr>\n",
       "  </tbody>\n",
       "</table>\n",
       "</div>"
      ],
      "text/plain": [
       "    Primary Category Secondary Category  \\\n",
       "0  Arts & Humanities       Architecture   \n",
       "1  Arts & Humanities       Architecture   \n",
       "2  Arts & Humanities       Architecture   \n",
       "3  Arts & Humanities       Architecture   \n",
       "4  Arts & Humanities       Architecture   \n",
       "\n",
       "                                              Title  \\\n",
       "0                                    68 Dean Street   \n",
       "1                             Abandoned Communities   \n",
       "2                         Alexander Thomson Society   \n",
       "3                          Arab British Centre, The   \n",
       "4  Architectural Association School of Architecture   \n",
       "\n",
       "                                      URL  \n",
       "0                  http://www.sixty8.com/  \n",
       "1  http://www.abandonedcommunities.co.uk/  \n",
       "2            http://www.greekthomson.com/  \n",
       "3   http://www.arabbritishcentre.org.uk/   \n",
       "4              http://www.aaschool.ac.uk/  "
      ]
     },
     "execution_count": 1,
     "metadata": {},
     "output_type": "execute_result"
    }
   ],
   "source": [
    "import pandas as pd\n",
    "df = pd.read_csv('classification.tsv', sep='\\t', error_bad_lines=False)# data.columns = [\"a\", \"b\", \"c\"]\n",
    "df.head()"
   ]
  },
  {
   "cell_type": "code",
   "execution_count": 2,
   "metadata": {},
   "outputs": [
    {
     "data": {
      "text/plain": [
       "(26798, 4)"
      ]
     },
     "execution_count": 2,
     "metadata": {},
     "output_type": "execute_result"
    }
   ],
   "source": [
    "df.shape"
   ]
  },
  {
   "cell_type": "code",
   "execution_count": 3,
   "metadata": {},
   "outputs": [
    {
     "data": {
      "text/plain": [
       "0    Arts & Humanities\n",
       "1    Arts & Humanities\n",
       "2    Arts & Humanities\n",
       "3    Arts & Humanities\n",
       "4    Arts & Humanities\n",
       "Name: Primary Category, dtype: object"
      ]
     },
     "execution_count": 3,
     "metadata": {},
     "output_type": "execute_result"
    }
   ],
   "source": [
    "df['Primary Category'].head()"
   ]
  },
  {
   "cell_type": "code",
   "execution_count": 4,
   "metadata": {},
   "outputs": [
    {
     "data": {
      "text/plain": [
       "0                                      68 Dean Street\n",
       "1                               Abandoned Communities\n",
       "2                           Alexander Thomson Society\n",
       "3                            Arab British Centre, The\n",
       "4    Architectural Association School of Architecture\n",
       "Name: Title, dtype: object"
      ]
     },
     "execution_count": 4,
     "metadata": {},
     "output_type": "execute_result"
    }
   ],
   "source": [
    "df['Title'].head()"
   ]
  },
  {
   "cell_type": "code",
   "execution_count": 5,
   "metadata": {},
   "outputs": [],
   "source": [
    "df = df[['Primary Category', 'Title']]"
   ]
  },
  {
   "cell_type": "code",
   "execution_count": 6,
   "metadata": {},
   "outputs": [
    {
     "data": {
      "text/html": [
       "<div>\n",
       "<style scoped>\n",
       "    .dataframe tbody tr th:only-of-type {\n",
       "        vertical-align: middle;\n",
       "    }\n",
       "\n",
       "    .dataframe tbody tr th {\n",
       "        vertical-align: top;\n",
       "    }\n",
       "\n",
       "    .dataframe thead th {\n",
       "        text-align: right;\n",
       "    }\n",
       "</style>\n",
       "<table border=\"1\" class=\"dataframe\">\n",
       "  <thead>\n",
       "    <tr style=\"text-align: right;\">\n",
       "      <th></th>\n",
       "      <th>Primary Category</th>\n",
       "      <th>Title</th>\n",
       "    </tr>\n",
       "  </thead>\n",
       "  <tbody>\n",
       "    <tr>\n",
       "      <th>0</th>\n",
       "      <td>Arts &amp; Humanities</td>\n",
       "      <td>68 Dean Street</td>\n",
       "    </tr>\n",
       "    <tr>\n",
       "      <th>1</th>\n",
       "      <td>Arts &amp; Humanities</td>\n",
       "      <td>Abandoned Communities</td>\n",
       "    </tr>\n",
       "    <tr>\n",
       "      <th>2</th>\n",
       "      <td>Arts &amp; Humanities</td>\n",
       "      <td>Alexander Thomson Society</td>\n",
       "    </tr>\n",
       "    <tr>\n",
       "      <th>3</th>\n",
       "      <td>Arts &amp; Humanities</td>\n",
       "      <td>Arab British Centre, The</td>\n",
       "    </tr>\n",
       "    <tr>\n",
       "      <th>4</th>\n",
       "      <td>Arts &amp; Humanities</td>\n",
       "      <td>Architectural Association School of Architecture</td>\n",
       "    </tr>\n",
       "  </tbody>\n",
       "</table>\n",
       "</div>"
      ],
      "text/plain": [
       "    Primary Category                                             Title\n",
       "0  Arts & Humanities                                    68 Dean Street\n",
       "1  Arts & Humanities                             Abandoned Communities\n",
       "2  Arts & Humanities                         Alexander Thomson Society\n",
       "3  Arts & Humanities                          Arab British Centre, The\n",
       "4  Arts & Humanities  Architectural Association School of Architecture"
      ]
     },
     "execution_count": 6,
     "metadata": {},
     "output_type": "execute_result"
    }
   ],
   "source": [
    "df.head()"
   ]
  },
  {
   "cell_type": "code",
   "execution_count": 7,
   "metadata": {},
   "outputs": [
    {
     "name": "stdout",
     "output_type": "stream",
     "text": [
      "['Arts & Humanities' 'Business, Economy & Industry' 'Company Web Sites'\n",
      " 'Computer Science, Information Technology and Web Technology'\n",
      " 'Crime, Criminology, Police and Prisons' 'Digital Society'\n",
      " 'Education & Research' 'Environment' 'Government, Law & Politics'\n",
      " 'History' 'Law and Legal System' 'Libraries, Archives and Museums'\n",
      " 'Life Sciences' 'Literature' 'Medicine & Health'\n",
      " 'Politics, Political Theory and Political Systems' 'Popular Science'\n",
      " 'Publishing, Printing and Bookselling' 'Religion' 'Science & Technology'\n",
      " 'Social Problems and Welfare' 'Society & Culture' 'Sports and Recreation'\n",
      " 'Travel & Tourism']\n"
     ]
    }
   ],
   "source": [
    "df.rename(columns = {'Primary Category':'Category'}, inplace = True)\n",
    "print(df.Category.unique())\n",
    "# print(len(l))"
   ]
  },
  {
   "cell_type": "code",
   "execution_count": 8,
   "metadata": {},
   "outputs": [
    {
     "data": {
      "text/plain": [
       "<matplotlib.axes._subplots.AxesSubplot at 0x7eff075b2910>"
      ]
     },
     "execution_count": 8,
     "metadata": {},
     "output_type": "execute_result"
    },
    {
     "data": {
      "image/png": "[encoded data removed]",
      "text/plain": [
       "<Figure size 1440x720 with 1 Axes>"
      ]
     },
     "metadata": {
      "needs_background": "light"
     },
     "output_type": "display_data"
    }
   ],
   "source": [
    "df.Category.value_counts().plot.bar(figsize = (20,10))"
   ]
  },
  {
   "cell_type": "code",
   "execution_count": 9,
   "metadata": {},
   "outputs": [
    {
     "name": "stdout",
     "output_type": "stream",
     "text": [
      "Arts & Humanities                                              5299\n",
      "Government, Law & Politics                                     4832\n",
      "Business, Economy & Industry                                   2988\n",
      "Society & Culture                                              2984\n",
      "Science & Technology                                           2420\n",
      "Medicine & Health                                              2164\n",
      "Education & Research                                           2118\n",
      "Company Web Sites                                               843\n",
      "Digital Society                                                 737\n",
      "Sports and Recreation                                           710\n",
      "Religion                                                        417\n",
      "Travel & Tourism                                                374\n",
      "Social Problems and Welfare                                     270\n",
      "Politics, Political Theory and Political Systems                123\n",
      "Crime, Criminology, Police and Prisons                          101\n",
      "Literature                                                       87\n",
      "Law and Legal System                                             81\n",
      "Computer Science, Information Technology and Web Technology      54\n",
      "Libraries, Archives and Museums                                  52\n",
      "Environment                                                      38\n",
      "History                                                          34\n",
      "Publishing, Printing and Bookselling                             26\n",
      "Life Sciences                                                    23\n",
      "Popular Science                                                  23\n",
      "Name: Category, dtype: int64\n"
     ]
    }
   ],
   "source": [
    "print(df['Category'].value_counts())"
   ]
  },
  {
   "cell_type": "code",
   "execution_count": 10,
   "metadata": {},
   "outputs": [
    {
     "data": {
      "text/plain": [
       "Category    0\n",
       "Title       0\n",
       "dtype: int64"
      ]
     },
     "execution_count": 10,
     "metadata": {},
     "output_type": "execute_result"
    }
   ],
   "source": [
    "df.isna().sum()"
   ]
  },
  {
   "cell_type": "code",
   "execution_count": 11,
   "metadata": {},
   "outputs": [
    {
     "data": {
      "text/html": [
       "<div>\n",
       "<style scoped>\n",
       "    .dataframe tbody tr th:only-of-type {\n",
       "        vertical-align: middle;\n",
       "    }\n",
       "\n",
       "    .dataframe tbody tr th {\n",
       "        vertical-align: top;\n",
       "    }\n",
       "\n",
       "    .dataframe thead th {\n",
       "        text-align: right;\n",
       "    }\n",
       "</style>\n",
       "<table border=\"1\" class=\"dataframe\">\n",
       "  <thead>\n",
       "    <tr style=\"text-align: right;\">\n",
       "      <th></th>\n",
       "      <th>Category</th>\n",
       "      <th>Title</th>\n",
       "    </tr>\n",
       "  </thead>\n",
       "  <tbody>\n",
       "    <tr>\n",
       "      <th>0</th>\n",
       "      <td>Government, Law &amp; Politics</td>\n",
       "      <td>Eric Martlew MP</td>\n",
       "    </tr>\n",
       "    <tr>\n",
       "      <th>1</th>\n",
       "      <td>Arts &amp; Humanities</td>\n",
       "      <td>BBC News: Looking back to the future of video ...</td>\n",
       "    </tr>\n",
       "    <tr>\n",
       "      <th>2</th>\n",
       "      <td>Science &amp; Technology</td>\n",
       "      <td>Research Councils UK (RCUK)</td>\n",
       "    </tr>\n",
       "    <tr>\n",
       "      <th>3</th>\n",
       "      <td>Government, Law &amp; Politics</td>\n",
       "      <td>South Wales Police &amp; Crime Commissioner</td>\n",
       "    </tr>\n",
       "    <tr>\n",
       "      <th>4</th>\n",
       "      <td>Science &amp; Technology</td>\n",
       "      <td>NRPB - National Radiological Protection Board</td>\n",
       "    </tr>\n",
       "  </tbody>\n",
       "</table>\n",
       "</div>"
      ],
      "text/plain": [
       "                     Category  \\\n",
       "0  Government, Law & Politics   \n",
       "1           Arts & Humanities   \n",
       "2        Science & Technology   \n",
       "3  Government, Law & Politics   \n",
       "4        Science & Technology   \n",
       "\n",
       "                                               Title  \n",
       "0                                    Eric Martlew MP  \n",
       "1  BBC News: Looking back to the future of video ...  \n",
       "2                        Research Councils UK (RCUK)  \n",
       "3            South Wales Police & Crime Commissioner  \n",
       "4      NRPB - National Radiological Protection Board  "
      ]
     },
     "execution_count": 11,
     "metadata": {},
     "output_type": "execute_result"
    }
   ],
   "source": [
    "df = df.sample(frac=1).reset_index(drop=True)\n",
    "df.head()"
   ]
  },
  {
   "cell_type": "code",
   "execution_count": 20,
   "metadata": {},
   "outputs": [
    {
     "name": "stdout",
     "output_type": "stream",
     "text": [
      "26113             Building Cost Information Service (BCIS)\n",
      "9774                        Advisory Service for Squatters\n",
      "19780                                 Endurance Technology\n",
      "26473                                       Darwin Country\n",
      "24465    Family Policy Studies Centre, University of Ox...\n",
      "                               ...                        \n",
      "21575                                     Keith Nevols PPC\n",
      "5390                                  textadventures.co.uk\n",
      "860                                    Kore Technology Ltd\n",
      "15795                          Newcastle Liberal Democrats\n",
      "23654                       BP: Fuelling the Olympic Dream\n",
      "Name: Title, Length: 21438, dtype: object\n"
     ]
    },
    {
     "data": {
      "text/plain": [
       "(21438,)"
      ]
     },
     "execution_count": 20,
     "metadata": {},
     "output_type": "execute_result"
    }
   ],
   "source": [
    "from sklearn.model_selection import train_test_split\n",
    "X = df.Title\n",
    "y = df.Category\n",
    "X_train, X_test, y_train, y_test = train_test_split(X, y, train_size=0.8, random_state = 42)\n",
    "print(X_train)\n",
    "X_train.shape"
   ]
  },
  {
   "cell_type": "code",
   "execution_count": 21,
   "metadata": {},
   "outputs": [
    {
     "name": "stdout",
     "output_type": "stream",
     "text": [
      "26113             Building Cost Information Service (BCIS)\n",
      "9774                        Advisory Service for Squatters\n",
      "19780                                 Endurance Technology\n",
      "26473                                       Darwin Country\n",
      "24465    Family Policy Studies Centre, University of Ox...\n",
      "                               ...                        \n",
      "21575                                     Keith Nevols PPC\n",
      "5390                                  textadventures.co.uk\n",
      "860                                    Kore Technology Ltd\n",
      "15795                          Newcastle Liberal Democrats\n",
      "23654                       BP: Fuelling the Olympic Dream\n",
      "Name: Title, Length: 21438, dtype: object\n",
      "<class 'pandas.core.series.Series'> 26703                        RuneQuest/Glorantha Home Page\n",
      "19064                    Thomas Jones Pencerrig: 1742-1803\n",
      "26298                                             Usk Show\n",
      "11430                                    Sick City Project\n",
      "14533                     Change & Internal Communications\n",
      "                               ...                        \n",
      "23763    Number10.gov.uk: The official site of the Prim...\n",
      "12428                                          Dorney Lake\n",
      "21311    Gweini: The Council of the Christian Voluntary...\n",
      "25358    Quakers in Warwickshire, Birmingham and the We...\n",
      "17897                         Save Lambeth Women's Project\n",
      "Name: Title, Length: 5360, dtype: object\n",
      "<class 'numpy.ndarray'>\n",
      "accuracy 0.444589552238806\n",
      "[[836 120  17   2   0  73 167   2  98  10   6   6   4  18 105   8   5   7\n",
      "   65 112   3 252  40  28]\n",
      " [ 24 174  73   0   0  16   5   0  58   0   0   0   0   0   6   0   0   0\n",
      "    0 175   1  26   5   5]\n",
      " [  0   0   0   0   0   0   0   0   0   0   0   0   0   0   0   0   0   0\n",
      "    0   0   0   0   0   0]\n",
      " [  0   0   0   0   0   0   0   0   0   0   0   0   0   0   0   0   0   0\n",
      "    0   0   0   0   0   0]\n",
      " [  0   0   0   0   0   0   0   0   0   0   0   0   0   0   0   0   0   0\n",
      "    0   0   0   0   0   0]\n",
      " [  0   0   0   0   0   0   0   0   0   0   0   0   0   0   0   0   0   0\n",
      "    0   0   0   0   0   0]\n",
      " [  9   8   2   0   0   1 221   0   7   0   0   4   0   0   4   0   0   0\n",
      "    0  17   0   5   1   0]\n",
      " [  0   0   0   0   0   0   0   0   0   0   0   0   0   0   0   0   0   0\n",
      "    0   0   0   0   0   0]\n",
      " [141 157  13   0  23  34  27   2 731   0   8   0   1   0  55  14   1   0\n",
      "    3  46  46 114  23   8]\n",
      " [  0   0   0   0   0   0   0   0   0   0   0   0   0   0   0   0   0   0\n",
      "    0   0   0   0   0   0]\n",
      " [  0   0   0   0   0   0   0   0   0   0   0   0   0   0   0   0   0   0\n",
      "    0   0   0   0   0   0]\n",
      " [  0   0   0   0   0   0   0   0   0   0   0   0   0   0   0   0   0   0\n",
      "    0   0   0   0   0   0]\n",
      " [  0   0   0   0   0   0   0   0   0   0   0   0   0   0   0   0   0   0\n",
      "    0   0   0   0   0   0]\n",
      " [  0   0   0   0   0   0   0   0   0   0   0   0   0   0   0   0   0   0\n",
      "    0   0   0   0   0   0]\n",
      " [ 14   7   1   0   0   4   2   0   6   0   0   0   0   0 181   0   0   0\n",
      "    1   7   0  28   1   1]\n",
      " [  0   0   0   0   0   0   0   0   0   0   0   0   0   0   0   0   0   0\n",
      "    0   0   0   0   0   0]\n",
      " [  0   0   0   0   0   0   0   0   0   0   0   0   0   0   0   0   0   0\n",
      "    0   0   0   0   0   0]\n",
      " [  0   0   0   0   0   0   0   0   0   0   0   0   0   0   0   0   0   0\n",
      "    0   0   0   0   0   0]\n",
      " [  0   0   0   0   0   0   0   0   0   0   0   0   0   0   0   0   0   0\n",
      "    0   0   0   0   0   0]\n",
      " [ 10 120  68   1   0   5  21   0   8   0   0   0   0   0   6   0   0   0\n",
      "    0 101   0  10  13  11]\n",
      " [  0   0   0   0   0   0   0   0   0   0   0   0   0   0   0   0   0   0\n",
      "    0   0   0   0   0   0]\n",
      " [ 58  31   5   2   0   9  10   1  38   0   1   0   0   0  59   0   0   1\n",
      "    3  18   3 139  66  11]\n",
      " [  0   0   0   0   0   0   0   0   0   0   0   0   0   0   0   0   0   0\n",
      "    0   0   0   0   0   0]\n",
      " [  0   0   0   0   0   0   0   0   0   0   0   0   0   0   0   0   0   0\n",
      "    0   0   0   0   0   0]]\n"
     ]
    }
   ],
   "source": [
    "# Naive bayes vs Multinomial naive bayes\n",
    "# For n dimensional data with k classes, in naive bayes, we have to assume some probability distribution for every\n",
    "# dimension,class pair ; but in mnb we simply assume multinomial distribution for all the pairs.\n",
    "from sklearn.naive_bayes import MultinomialNB\n",
    "\n",
    "# Pipelining - Sequentially apply a list of transforms and a final estimator. Intermediate steps of pipeline must implement fit \n",
    "# and transform methods and the final estimator only needs to implement fit.\n",
    "# making vectorizer => transformer => classifier \n",
    "from sklearn.pipeline import Pipeline\n",
    "\n",
    "# tf–idf or TFIDF, short for term frequency–inverse document frequency, is a numerical statistic that is intended \n",
    "# to reflect how important a word is to a document in a collection or corpus\n",
    "# TF - Term frequency(t,a) = no of occurrences of t in abstract(a) / no of words in abstract(a)\n",
    "# IDF - inverse document frequency = log(no of documents/no of documents containing word t)\n",
    "from sklearn.feature_extraction.text import TfidfTransformer\n",
    "\n",
    "\n",
    "from sklearn.metrics import confusion_matrix\n",
    "from sklearn.feature_extraction.text import CountVectorizer\n",
    "my_tags = ['Business, Economy & Industry' 'Education & Research' 'Literature'\n",
    " 'Science & Technology' 'Arts & Humanities'\n",
    " 'Crime, Criminology, Police and Prisons' 'Law and Legal System'\n",
    " 'Company Web Sites' 'Medicine & Health' 'Religion' 'Society & Culture'\n",
    " 'Social Problems and Welfare' 'Government, Law & Politics'\n",
    " 'Digital Society'\n",
    " 'Computer Science, Information Technology and Web Technology'\n",
    " 'Environment' 'Travel & Tourism' 'Sports and Recreation'\n",
    " 'Popular Science' 'Life Sciences' 'Libraries, Archives and Museums'\n",
    " 'Politics, Political Theory and Political Systems'\n",
    " 'Publishing, Printing and Bookselling' 'History']\n",
    "\n",
    "mnb = Pipeline([('vect', CountVectorizer()),\n",
    "               ('tfidf', TfidfTransformer()),\n",
    "               ('clf', MultinomialNB()),\n",
    "              ])\n",
    "mnb.fit(X_train, y_train)\n",
    "print(X_train)\n",
    "\n",
    "# Import pickle Package\n",
    "import pickle\n",
    "# Save the Modle to file in the current working directory\n",
    "Pkl_Filename = \"Pickle_MNB_Model.pkl\"  \n",
    "\n",
    "with open(Pkl_Filename, 'wb') as file:  \n",
    "    pickle.dump(mnb, file)\n",
    "\n",
    "from sklearn.metrics import classification_report\n",
    "from sklearn.metrics import accuracy_score\n",
    "print(type(X_test), X_test)\n",
    "y_pred = mnb.predict(X_test)\n",
    "print(type(y_pred))\n",
    "\n",
    "print('accuracy %s' % accuracy_score(y_pred, y_test))\n",
    "\n",
    "\n",
    "print(confusion_matrix(y_pred, y_test))\n",
    "# print(classification_report(y_test, y_pred,target_names=my_tags))"
   ]
  },
  {
   "cell_type": "code",
   "execution_count": null,
   "metadata": {},
   "outputs": [],
   "source": []
  }
 ],
 "metadata": {
  "kernelspec": {
   "display_name": "Python 3",
   "language": "python",
   "name": "python3"
  },
  "language_info": {
   "codemirror_mode": {
    "name": "ipython",
    "version": 3
   },
   "file_extension": ".py",
   "mimetype": "text/x-python",
   "name": "python",
   "nbconvert_exporter": "python",
   "pygments_lexer": "ipython3",
   "version": "3.7.5"
  }
 },
 "nbformat": 4,
 "nbformat_minor": 2
}
