{
 "cells": [
  {
   "cell_type": "code",
   "execution_count": 1,
   "metadata": {},
   "outputs": [
    {
     "data": {
      "text/html": [
       "<div>\n",
       "<style scoped>\n",
       "    .dataframe tbody tr th:only-of-type {\n",
       "        vertical-align: middle;\n",
       "    }\n",
       "\n",
       "    .dataframe tbody tr th {\n",
       "        vertical-align: top;\n",
       "    }\n",
       "\n",
       "    .dataframe thead th {\n",
       "        text-align: right;\n",
       "    }\n",
       "</style>\n",
       "<table border=\"1\" class=\"dataframe\">\n",
       "  <thead>\n",
       "    <tr style=\"text-align: right;\">\n",
       "      <th></th>\n",
       "      <th>category</th>\n",
       "      <th>headline</th>\n",
       "      <th>authors</th>\n",
       "      <th>link</th>\n",
       "      <th>short_description</th>\n",
       "      <th>date</th>\n",
       "    </tr>\n",
       "  </thead>\n",
       "  <tbody>\n",
       "    <tr>\n",
       "      <th>0</th>\n",
       "      <td>CRIME</td>\n",
       "      <td>There Were 2 Mass Shootings In Texas Last Week...</td>\n",
       "      <td>Melissa Jeltsen</td>\n",
       "      <td>https://www.huffingtonpost.com/entry/texas-ama...</td>\n",
       "      <td>She left her husband. He killed their children...</td>\n",
       "      <td>2018-05-26</td>\n",
       "    </tr>\n",
       "    <tr>\n",
       "      <th>1</th>\n",
       "      <td>ENTERTAINMENT</td>\n",
       "      <td>Will Smith Joins Diplo And Nicky Jam For The 2...</td>\n",
       "      <td>Andy McDonald</td>\n",
       "      <td>https://www.huffingtonpost.com/entry/will-smit...</td>\n",
       "      <td>Of course it has a song.</td>\n",
       "      <td>2018-05-26</td>\n",
       "    </tr>\n",
       "    <tr>\n",
       "      <th>2</th>\n",
       "      <td>ENTERTAINMENT</td>\n",
       "      <td>Hugh Grant Marries For The First Time At Age 57</td>\n",
       "      <td>Ron Dicker</td>\n",
       "      <td>https://www.huffingtonpost.com/entry/hugh-gran...</td>\n",
       "      <td>The actor and his longtime girlfriend Anna Ebe...</td>\n",
       "      <td>2018-05-26</td>\n",
       "    </tr>\n",
       "    <tr>\n",
       "      <th>3</th>\n",
       "      <td>ENTERTAINMENT</td>\n",
       "      <td>Jim Carrey Blasts 'Castrato' Adam Schiff And D...</td>\n",
       "      <td>Ron Dicker</td>\n",
       "      <td>https://www.huffingtonpost.com/entry/jim-carre...</td>\n",
       "      <td>The actor gives Dems an ass-kicking for not fi...</td>\n",
       "      <td>2018-05-26</td>\n",
       "    </tr>\n",
       "    <tr>\n",
       "      <th>4</th>\n",
       "      <td>ENTERTAINMENT</td>\n",
       "      <td>Julianna Margulies Uses Donald Trump Poop Bags...</td>\n",
       "      <td>Ron Dicker</td>\n",
       "      <td>https://www.huffingtonpost.com/entry/julianna-...</td>\n",
       "      <td>The \"Dietland\" actress said using the bags is ...</td>\n",
       "      <td>2018-05-26</td>\n",
       "    </tr>\n",
       "  </tbody>\n",
       "</table>\n",
       "</div>"
      ],
      "text/plain": [
       "        category                                           headline  \\\n",
       "0          CRIME  There Were 2 Mass Shootings In Texas Last Week...   \n",
       "1  ENTERTAINMENT  Will Smith Joins Diplo And Nicky Jam For The 2...   \n",
       "2  ENTERTAINMENT    Hugh Grant Marries For The First Time At Age 57   \n",
       "3  ENTERTAINMENT  Jim Carrey Blasts 'Castrato' Adam Schiff And D...   \n",
       "4  ENTERTAINMENT  Julianna Margulies Uses Donald Trump Poop Bags...   \n",
       "\n",
       "           authors                                               link  \\\n",
       "0  Melissa Jeltsen  https://www.huffingtonpost.com/entry/texas-ama...   \n",
       "1    Andy McDonald  https://www.huffingtonpost.com/entry/will-smit...   \n",
       "2       Ron Dicker  https://www.huffingtonpost.com/entry/hugh-gran...   \n",
       "3       Ron Dicker  https://www.huffingtonpost.com/entry/jim-carre...   \n",
       "4       Ron Dicker  https://www.huffingtonpost.com/entry/julianna-...   \n",
       "\n",
       "                                   short_description       date  \n",
       "0  She left her husband. He killed their children... 2018-05-26  \n",
       "1                           Of course it has a song. 2018-05-26  \n",
       "2  The actor and his longtime girlfriend Anna Ebe... 2018-05-26  \n",
       "3  The actor gives Dems an ass-kicking for not fi... 2018-05-26  \n",
       "4  The \"Dietland\" actress said using the bags is ... 2018-05-26  "
      ]
     },
     "execution_count": 1,
     "metadata": {},
     "output_type": "execute_result"
    }
   ],
   "source": [
    "import pandas as pd\n",
    "df = pd.read_json('news_dataset.json',lines=True)\n",
    "df.head()"
   ]
  },
  {
   "cell_type": "code",
   "execution_count": 2,
   "metadata": {},
   "outputs": [],
   "source": [
    "df = df[['category','headline']]"
   ]
  },
  {
   "cell_type": "code",
   "execution_count": 6,
   "metadata": {},
   "outputs": [
    {
     "name": "stdout",
     "output_type": "stream",
     "text": [
      "        category                                           headline\n",
      "0          CRIME  There Were 2 Mass Shootings In Texas Last Week...\n",
      "1  ENTERTAINMENT  Will Smith Joins Diplo And Nicky Jam For The 2...\n",
      "2  ENTERTAINMENT    Hugh Grant Marries For The First Time At Age 57\n",
      "3  ENTERTAINMENT  Jim Carrey Blasts 'Castrato' Adam Schiff And D...\n",
      "4  ENTERTAINMENT  Julianna Margulies Uses Donald Trump Poop Bags... \n",
      "\n",
      "\n",
      "<class 'pandas.core.frame.DataFrame'>\n",
      "RangeIndex: 200853 entries, 0 to 200852\n",
      "Data columns (total 2 columns):\n",
      "category    200853 non-null object\n",
      "headline    200853 non-null object\n",
      "dtypes: object(2)\n",
      "memory usage: 3.1+ MB\n",
      "None \n",
      "\n",
      "\n",
      "(200853, 2) \n",
      "\n",
      "\n",
      "POLITICS          32739\n",
      "WELLNESS          17827\n",
      "ENTERTAINMENT     16058\n",
      "TRAVEL             9887\n",
      "STYLE & BEAUTY     9649\n",
      "PARENTING          8677\n",
      "HEALTHY LIVING     6694\n",
      "QUEER VOICES       6314\n",
      "FOOD & DRINK       6226\n",
      "BUSINESS           5937\n",
      "COMEDY             5175\n",
      "SPORTS             4884\n",
      "BLACK VOICES       4528\n",
      "HOME & LIVING      4195\n",
      "PARENTS            3955\n",
      "THE WORLDPOST      3664\n",
      "WEDDINGS           3651\n",
      "WOMEN              3490\n",
      "IMPACT             3459\n",
      "DIVORCE            3426\n",
      "CRIME              3405\n",
      "MEDIA              2815\n",
      "WEIRD NEWS         2670\n",
      "GREEN              2622\n",
      "WORLDPOST          2579\n",
      "RELIGION           2556\n",
      "STYLE              2254\n",
      "SCIENCE            2178\n",
      "WORLD NEWS         2177\n",
      "TASTE              2096\n",
      "TECH               2082\n",
      "MONEY              1707\n",
      "ARTS               1509\n",
      "FIFTY              1401\n",
      "GOOD NEWS          1398\n",
      "ARTS & CULTURE     1339\n",
      "ENVIRONMENT        1323\n",
      "COLLEGE            1144\n",
      "LATINO VOICES      1129\n",
      "CULTURE & ARTS     1030\n",
      "EDUCATION          1004\n",
      "Name: category, dtype: int64\n",
      "There Were 2 Mass Shootings In Texas Last Week, But Only 1 On TV CRIME\n",
      "Will Smith Joins Diplo And Nicky Jam For The 2018 World Cup's Official Song CRIME\n",
      "Hugh Grant Marries For The First Time At Age 57 CRIME\n",
      "Jim Carrey Blasts 'Castrato' Adam Schiff And Democrats In New Artwork CRIME\n",
      "Julianna Margulies Uses Donald Trump Poop Bags To Pick Up After Her Dog CRIME\n",
      "Morgan Freeman 'Devastated' That Sexual Harassment Claims Could Undermine Legacy CRIME\n",
      "Donald Trump Is Lovin' New McDonald's Jingle In 'Tonight Show' Bit CRIME\n",
      "What To Watch On Amazon Prime That’s New This Week CRIME\n",
      "Mike Myers Reveals He'd 'Like To' Do A Fourth Austin Powers Film CRIME\n",
      "What To Watch On Hulu That’s New This Week CRIME\n",
      "Justin Timberlake Visits Texas School Shooting Victims CRIME\n",
      "South Korean President Meets North Korea's Kim Jong Un To Talk Trump Summit CRIME\n",
      "With Its Way Of Life At Risk, This Remote Oyster-Growing Region Called In Robots CRIME\n",
      "Trump's Crackdown On Immigrant Parents Puts More Kids In An Already Strained System CRIME\n",
      "'Trump's Son Should Be Concerned': FBI Obtained Wiretaps Of Putin Ally Who Met With Trump Jr. CRIME\n"
     ]
    }
   ],
   "source": [
    "print(df.head(),'\\n\\n')\n",
    "print(df.info(),'\\n\\n')\n",
    "print(df.shape,'\\n\\n')\n",
    "print(df['category'].value_counts())\n",
    "for i in range(15):\n",
    "    print(df['headline'][i], df['category'][0])"
   ]
  },
  {
   "cell_type": "code",
   "execution_count": 27,
   "metadata": {},
   "outputs": [
    {
     "name": "stdout",
     "output_type": "stream",
     "text": [
      "['CRIME' 'ENTERTAINMENT' 'WORLD NEWS' 'IMPACT' 'POLITICS' 'WEIRD NEWS'\n",
      " 'BLACK VOICES' 'WOMEN' 'COMEDY' 'QUEER VOICES' 'SPORTS' 'BUSINESS'\n",
      " 'TRAVEL' 'MEDIA' 'TECH' 'RELIGION' 'SCIENCE' 'LATINO VOICES' 'EDUCATION'\n",
      " 'COLLEGE' 'PARENTS' 'ARTS & CULTURE' 'STYLE' 'GREEN' 'TASTE'\n",
      " 'HEALTHY LIVING' 'THE WORLDPOST' 'GOOD NEWS' 'WORLDPOST' 'FIFTY' 'ARTS'\n",
      " 'WELLNESS' 'PARENTING' 'HOME & LIVING' 'STYLE & BEAUTY' 'DIVORCE'\n",
      " 'WEDDINGS' 'FOOD & DRINK' 'MONEY' 'ENVIRONMENT' 'CULTURE & ARTS']\n",
      "['CRIME', 'ENTERTAINMENT', 'WORLD NEWS', 'IMPACT', 'POLITICS', 'WEIRD NEWS', 'BLACK VOICES', 'WOMEN', 'COMEDY', 'QUEER VOICES', 'SPORTS', 'BUSINESS', 'TRAVEL', 'MEDIA', 'TECH', 'RELIGION', 'SCIENCE', 'LATINO VOICES', 'EDUCATION', 'COLLEGE', 'PARENTS', 'ARTS & CULTURE', 'STYLE', 'GREEN', 'TASTE', 'HEALTHY LIVING', 'THE WORLDPOST', 'GOOD NEWS', 'WORLDPOST', 'FIFTY', 'ARTS', 'WELLNESS', 'PARENTING', 'HOME & LIVING', 'STYLE & BEAUTY', 'DIVORCE', 'WEDDINGS', 'FOOD & DRINK', 'MONEY', 'ENVIRONMENT', 'CULTURE & ARTS']\n"
     ]
    }
   ],
   "source": [
    "print(df.category.unique())\n",
    "l = []\n",
    "for i in df.category.unique():\n",
    "    l.append(i)\n",
    "print(l)    "
   ]
  },
  {
   "cell_type": "code",
   "execution_count": 4,
   "metadata": {},
   "outputs": [
    {
     "data": {
      "text/plain": [
       "<matplotlib.axes._subplots.AxesSubplot at 0x7fef935aadd0>"
      ]
     },
     "execution_count": 4,
     "metadata": {},
     "output_type": "execute_result"
    },
    {
     "data": {
      "image/png": "[encoded data removed]",
      "text/plain": [
       "<Figure size 1440x720 with 1 Axes>"
      ]
     },
     "metadata": {
      "needs_background": "light"
     },
     "output_type": "display_data"
    }
   ],
   "source": [
    "df.category.value_counts().plot.bar(figsize = (20,10))"
   ]
  },
  {
   "cell_type": "code",
   "execution_count": 5,
   "metadata": {},
   "outputs": [
    {
     "data": {
      "text/plain": [
       "0"
      ]
     },
     "execution_count": 5,
     "metadata": {},
     "output_type": "execute_result"
    }
   ],
   "source": [
    "df['category'].isna().sum()"
   ]
  },
  {
   "cell_type": "code",
   "execution_count": 29,
   "metadata": {},
   "outputs": [
    {
     "data": {
      "text/html": [
       "<div>\n",
       "<style scoped>\n",
       "    .dataframe tbody tr th:only-of-type {\n",
       "        vertical-align: middle;\n",
       "    }\n",
       "\n",
       "    .dataframe tbody tr th {\n",
       "        vertical-align: top;\n",
       "    }\n",
       "\n",
       "    .dataframe thead th {\n",
       "        text-align: right;\n",
       "    }\n",
       "</style>\n",
       "<table border=\"1\" class=\"dataframe\">\n",
       "  <thead>\n",
       "    <tr style=\"text-align: right;\">\n",
       "      <th></th>\n",
       "      <th>category</th>\n",
       "      <th>headline</th>\n",
       "    </tr>\n",
       "  </thead>\n",
       "  <tbody>\n",
       "    <tr>\n",
       "      <th>0</th>\n",
       "      <td>POLITICS</td>\n",
       "      <td>HUFFPOST HILL - Does Anyone Else Think Mike Pe...</td>\n",
       "    </tr>\n",
       "    <tr>\n",
       "      <th>1</th>\n",
       "      <td>ARTS &amp; CULTURE</td>\n",
       "      <td>Bizarre Photos Capture The Unreality Of The 20...</td>\n",
       "    </tr>\n",
       "    <tr>\n",
       "      <th>2</th>\n",
       "      <td>ENTERTAINMENT</td>\n",
       "      <td>Dave Chappelle Speaks Out About Comeback, Says...</td>\n",
       "    </tr>\n",
       "    <tr>\n",
       "      <th>3</th>\n",
       "      <td>ARTS</td>\n",
       "      <td>Stage Door: The Judas Kiss</td>\n",
       "    </tr>\n",
       "    <tr>\n",
       "      <th>4</th>\n",
       "      <td>QUEER VOICES</td>\n",
       "      <td>Why Pride Still Tickles In 2017</td>\n",
       "    </tr>\n",
       "  </tbody>\n",
       "</table>\n",
       "</div>"
      ],
      "text/plain": [
       "         category                                           headline\n",
       "0        POLITICS  HUFFPOST HILL - Does Anyone Else Think Mike Pe...\n",
       "1  ARTS & CULTURE  Bizarre Photos Capture The Unreality Of The 20...\n",
       "2   ENTERTAINMENT  Dave Chappelle Speaks Out About Comeback, Says...\n",
       "3            ARTS                         Stage Door: The Judas Kiss\n",
       "4    QUEER VOICES                    Why Pride Still Tickles In 2017"
      ]
     },
     "execution_count": 29,
     "metadata": {},
     "output_type": "execute_result"
    }
   ],
   "source": [
    "df = df.sample(frac=1).reset_index(drop=True)\n",
    "df.head()"
   ]
  },
  {
   "cell_type": "code",
   "execution_count": 30,
   "metadata": {},
   "outputs": [],
   "source": [
    "X = df.headline\n",
    "y = df.category\n",
    "X_train, X_test, y_train, y_test = train_test_split(X, y, train_size=0.8, random_state = 42)"
   ]
  },
  {
   "cell_type": "code",
   "execution_count": 31,
   "metadata": {},
   "outputs": [
    {
     "name": "stdout",
     "output_type": "stream",
     "text": [
      "accuracy 0.3999153618281845\n",
      "[[ 0  0  0 ...  0  0  0]\n",
      " [ 0  0  0 ...  0  0  0]\n",
      " [ 0  0 11 ...  0  0  0]\n",
      " ...\n",
      " [ 0  0  0 ... 22  0  0]\n",
      " [ 0  0  0 ...  0  0  0]\n",
      " [ 0  0  0 ...  0  0  0]]\n"
     ]
    },
    {
     "name": "stderr",
     "output_type": "stream",
     "text": [
      "/home/err_pv/anaconda3/envs/deep_learning/lib/python3.7/site-packages/sklearn/metrics/_classification.py:1268: UndefinedMetricWarning: Precision and F-score are ill-defined and being set to 0.0 in labels with no predicted samples. Use `zero_division` parameter to control this behavior.\n",
      "  _warn_prf(average, modifier, msg_start, len(result))\n"
     ]
    },
    {
     "name": "stdout",
     "output_type": "stream",
     "text": [
      "                precision    recall  f1-score   support\n",
      "\n",
      "         CRIME       0.00      0.00      0.00       291\n",
      " ENTERTAINMENT       0.00      0.00      0.00       259\n",
      "    WORLD NEWS       0.92      0.01      0.02       889\n",
      "        IMPACT       0.79      0.05      0.09      1228\n",
      "      POLITICS       0.00      0.00      0.00       234\n",
      "    WEIRD NEWS       0.79      0.02      0.04      1045\n",
      "  BLACK VOICES       0.92      0.05      0.10       670\n",
      "         WOMEN       0.00      0.00      0.00       216\n",
      "        COMEDY       0.97      0.10      0.17       666\n",
      "  QUEER VOICES       0.00      0.00      0.00       190\n",
      "        SPORTS       0.43      0.76      0.55      3175\n",
      "      BUSINESS       1.00      0.00      0.01       250\n",
      "        TRAVEL       0.00      0.00      0.00       286\n",
      "         MEDIA       0.74      0.45      0.56      1186\n",
      "          TECH       0.00      0.00      0.00       284\n",
      "      RELIGION       1.00      0.00      0.00       535\n",
      "       SCIENCE       0.67      0.00      0.00      1334\n",
      " LATINO VOICES       0.92      0.25      0.40       816\n",
      "     EDUCATION       0.00      0.00      0.00       676\n",
      "       COLLEGE       0.00      0.00      0.00       242\n",
      "       PARENTS       1.00      0.00      0.01       534\n",
      "ARTS & CULTURE       0.00      0.00      0.00       345\n",
      "         STYLE       0.53      0.26      0.35      1730\n",
      "         GREEN       1.00      0.01      0.02       818\n",
      "         TASTE       0.31      0.98      0.47      6593\n",
      "HEALTHY LIVING       0.91      0.13      0.23      1326\n",
      " THE WORLDPOST       1.00      0.01      0.02       525\n",
      "     GOOD NEWS       1.00      0.01      0.03       438\n",
      "     WORLDPOST       0.93      0.17      0.29       983\n",
      "         FIFTY       0.00      0.00      0.00       452\n",
      "          ARTS       0.70      0.67      0.68      1946\n",
      "      WELLNESS       0.00      0.00      0.00       427\n",
      "     PARENTING       1.00      0.01      0.02       424\n",
      " HOME & LIVING       0.60      0.04      0.08       741\n",
      "STYLE & BEAUTY       0.70      0.56      0.62      1988\n",
      "       DIVORCE       0.94      0.16      0.27       747\n",
      "      WEDDINGS       1.00      0.00      0.00       527\n",
      "  FOOD & DRINK       0.37      0.80      0.50      3549\n",
      "         MONEY       1.00      0.03      0.06       663\n",
      "   ENVIRONMENT       0.00      0.00      0.00       443\n",
      "CULTURE & ARTS       0.00      0.00      0.00       500\n",
      "\n",
      "      accuracy                           0.40     40171\n",
      "     macro avg       0.54      0.14      0.14     40171\n",
      "  weighted avg       0.57      0.40      0.30     40171\n",
      "\n"
     ]
    }
   ],
   "source": [
    "# Naive bayes vs Multinomial naive bayes\n",
    "# For n dimensional data with k classes, in naive bayes, we have to assume some probability distribution for every\n",
    "# dimension,class pair ; but in mnb we simply assume multinomial distribution for all the pairs.\n",
    "from sklearn.naive_bayes import MultinomialNB\n",
    "\n",
    "# Pipelining - Sequentially apply a list of transforms and a final estimator. Intermediate steps of pipeline must implement fit \n",
    "# and transform methods and the final estimator only needs to implement fit.\n",
    "# making vectorizer => transformer => classifier \n",
    "from sklearn.pipeline import Pipeline\n",
    "\n",
    "# tf–idf or TFIDF, short for term frequency–inverse document frequency, is a numerical statistic that is intended \n",
    "# to reflect how important a word is to a document in a collection or corpus\n",
    "# TF - Term frequency(t,a) = no of occurrences of t in abstract(a) / no of words in abstract(a)\n",
    "# IDF - inverse document frequency = log(no of documents/no of documents containing word t)\n",
    "from sklearn.feature_extraction.text import TfidfTransformer\n",
    "\n",
    "\n",
    "from sklearn.metrics import confusion_matrix\n",
    "my_tags = ['CRIME', 'ENTERTAINMENT', 'WORLD NEWS', 'IMPACT', 'POLITICS'\n",
    "           , 'WEIRD NEWS', 'BLACK VOICES', 'WOMEN', 'COMEDY', \n",
    "           'QUEER VOICES', 'SPORTS', 'BUSINESS', 'TRAVEL', 'MEDIA', \n",
    "           'TECH', 'RELIGION', 'SCIENCE', 'LATINO VOICES', 'EDUCATION',\n",
    "           'COLLEGE', 'PARENTS', 'ARTS & CULTURE', 'STYLE', 'GREEN', \n",
    "           'TASTE', 'HEALTHY LIVING', 'THE WORLDPOST', 'GOOD NEWS', \n",
    "           'WORLDPOST', 'FIFTY', 'ARTS', 'WELLNESS', 'PARENTING', \n",
    "           'HOME & LIVING', 'STYLE & BEAUTY', 'DIVORCE', 'WEDDINGS', \n",
    "           'FOOD & DRINK', 'MONEY', 'ENVIRONMENT', 'CULTURE & ARTS']\n",
    "\n",
    "nb = Pipeline([('vect', CountVectorizer()),\n",
    "               ('tfidf', TfidfTransformer()),\n",
    "               ('clf', MultinomialNB()),\n",
    "              ])\n",
    "nb.fit(X_train, y_train)\n",
    "\n",
    "from sklearn.metrics import classification_report\n",
    "from sklearn.metrics import accuracy_score\n",
    "y_pred = nb.predict(X_test)\n",
    "\n",
    "print('accuracy %s' % accuracy_score(y_pred, y_test))\n",
    "\n",
    "\n",
    "print(confusion_matrix(y_pred, y_test))\n",
    "print(classification_report(y_test, y_pred,target_names=my_tags))"
   ]
  },
  {
   "cell_type": "code",
   "execution_count": 36,
   "metadata": {},
   "outputs": [
    {
     "data": {
      "text/html": [
       "<div>\n",
       "<style scoped>\n",
       "    .dataframe tbody tr th:only-of-type {\n",
       "        vertical-align: middle;\n",
       "    }\n",
       "\n",
       "    .dataframe tbody tr th {\n",
       "        vertical-align: top;\n",
       "    }\n",
       "\n",
       "    .dataframe thead th {\n",
       "        text-align: right;\n",
       "    }\n",
       "</style>\n",
       "<table border=\"1\" class=\"dataframe\">\n",
       "  <thead>\n",
       "    <tr style=\"text-align: right;\">\n",
       "      <th></th>\n",
       "      <th>headline</th>\n",
       "    </tr>\n",
       "  </thead>\n",
       "  <tbody>\n",
       "    <tr>\n",
       "      <th>0</th>\n",
       "      <td>Chrome Web Store - Themes</td>\n",
       "    </tr>\n",
       "  </tbody>\n",
       "</table>\n",
       "</div>"
      ],
      "text/plain": [
       "                    headline\n",
       "0  Chrome Web Store - Themes"
      ]
     },
     "execution_count": 36,
     "metadata": {},
     "output_type": "execute_result"
    }
   ],
   "source": [
    "X_test1 = 'Chrome Web Store - Themes'\n",
    "df1 = pd.read_csv(\"1.csv\")\n",
    "df1\n",
    "# y_pred_f = nb.predict()"
   ]
  },
  {
   "cell_type": "code",
   "execution_count": 38,
   "metadata": {},
   "outputs": [
    {
     "name": "stdout",
     "output_type": "stream",
     "text": [
      "['chrome', 'web', 'store', '-', 'theme'] \n",
      "\n",
      "\n",
      "0\n"
     ]
    }
   ],
   "source": [
    "from nltk.corpus import stopwords\n",
    "from nltk.tokenize import word_tokenize\n",
    "from nltk.stem import PorterStemmer\n",
    "\n",
    "stop_words = set(stopwords.words(\"english\"))\n",
    "# print(stop_words,len(stop_words))# 179 words\n",
    "# print(\"\\n\\n\")\n",
    "ps = PorterStemmer()\n",
    "\n",
    "for i in range(len(df1)):\n",
    "    example_text = df1.iloc[i,0]\n",
    "    words = word_tokenize(example_text)\n",
    "    filtered_sentence = []\n",
    "    for w in words:\n",
    "        w = w.lower()\n",
    "        w = ps.stem(w)\n",
    "        if w not in stop_words and w not in filtered_sentence:\n",
    "            filtered_sentence.append(w)\n",
    "    print(filtered_sentence,\"\\n\\n\")    \n",
    "    df1.iloc[i,0] = filtered_sentence\n",
    "    print(i)"
   ]
  },
  {
   "cell_type": "code",
   "execution_count": 39,
   "metadata": {},
   "outputs": [
    {
     "data": {
      "text/html": [
       "<div>\n",
       "<style scoped>\n",
       "    .dataframe tbody tr th:only-of-type {\n",
       "        vertical-align: middle;\n",
       "    }\n",
       "\n",
       "    .dataframe tbody tr th {\n",
       "        vertical-align: top;\n",
       "    }\n",
       "\n",
       "    .dataframe thead th {\n",
       "        text-align: right;\n",
       "    }\n",
       "</style>\n",
       "<table border=\"1\" class=\"dataframe\">\n",
       "  <thead>\n",
       "    <tr style=\"text-align: right;\">\n",
       "      <th></th>\n",
       "      <th>headline</th>\n",
       "    </tr>\n",
       "  </thead>\n",
       "  <tbody>\n",
       "    <tr>\n",
       "      <th>0</th>\n",
       "      <td>chrome web store - theme</td>\n",
       "    </tr>\n",
       "  </tbody>\n",
       "</table>\n",
       "</div>"
      ],
      "text/plain": [
       "                    headline\n",
       "0  chrome web store - theme "
      ]
     },
     "execution_count": 39,
     "metadata": {},
     "output_type": "execute_result"
    }
   ],
   "source": [
    "for i in range(len(df1)):\n",
    "    l = ''\n",
    "    for j in df1.iloc[i,0]:\n",
    "        # print(j)\n",
    "        l+=j\n",
    "        l+=' '\n",
    "    df1.iloc[i,0] = l   \n",
    "df1.head()\n",
    "df1"
   ]
  },
  {
   "cell_type": "code",
   "execution_count": 40,
   "metadata": {},
   "outputs": [
    {
     "data": {
      "text/plain": [
       "6"
      ]
     },
     "execution_count": 40,
     "metadata": {},
     "output_type": "execute_result"
    }
   ],
   "source": [
    "df1['headline'].apply(lambda x: len(x.split(' '))).sum()"
   ]
  },
  {
   "cell_type": "code",
   "execution_count": 42,
   "metadata": {},
   "outputs": [
    {
     "name": "stdout",
     "output_type": "stream",
     "text": [
      "0    chrome web store - theme \n",
      "Name: headline, dtype: object\n"
     ]
    }
   ],
   "source": [
    "x_test_final = df1['headline']\n",
    "print(x_test_final)"
   ]
  },
  {
   "cell_type": "code",
   "execution_count": 43,
   "metadata": {},
   "outputs": [
    {
     "name": "stdout",
     "output_type": "stream",
     "text": [
      "0    chrome web store - theme \n",
      "Name: headline, dtype: object ['ENTERTAINMENT']\n"
     ]
    }
   ],
   "source": [
    "from sklearn.naive_bayes import MultinomialNB\n",
    "from sklearn.pipeline import Pipeline\n",
    "from sklearn.feature_extraction.text import TfidfTransformer\n",
    "# my_tags = ['Non-Alcohol', 'Alcohol', 'Autonomous Vehicles', 'Non-Autonomous Vehicles']\n",
    "\n",
    "# from sklearn.metrics import classification_report\n",
    "\n",
    "y_pred_final = nb.predict(x_test_final)\n",
    "print(x_test_final,y_pred_final)\n"
   ]
  },
  {
   "cell_type": "code",
   "execution_count": null,
   "metadata": {},
   "outputs": [],
   "source": []
  }
 ],
 "metadata": {
  "kernelspec": {
   "display_name": "Python 3",
   "language": "python",
   "name": "python3"
  },
  "language_info": {
   "codemirror_mode": {
    "name": "ipython",
    "version": 3
   },
   "file_extension": ".py",
   "mimetype": "text/x-python",
   "name": "python",
   "nbconvert_exporter": "python",
   "pygments_lexer": "ipython3",
   "version": "3.7.5"
  }
 },
 "nbformat": 4,
 "nbformat_minor": 2
}
